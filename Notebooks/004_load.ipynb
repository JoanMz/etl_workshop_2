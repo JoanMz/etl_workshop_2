{
 "cells": [
  {
   "cell_type": "code",
   "execution_count": 2,
   "metadata": {},
   "outputs": [],
   "source": [
    "import pandas as pd\n",
    "import sys\n",
    "sys.path.append(\"../DB_Connection\")\n",
    "import Pysqlconnect\n"
   ]
  },
  {
   "cell_type": "code",
   "execution_count": null,
   "metadata": {},
   "outputs": [],
   "source": [
    "#load get the merge df\n",
    "#save the merge in a csv_file \n",
    "#save the merge in a sql db postgres"
   ]
  },
  {
   "cell_type": "code",
   "execution_count": 3,
   "metadata": {},
   "outputs": [],
   "source": [
    "def load_to_postgres(df:pd.DataFrame)->None:\n",
    "    df.to_sql(\"merge\", if_exists=\"replace\", index_label=id)"
   ]
  }
 ],
 "metadata": {
  "kernelspec": {
   "display_name": "W2",
   "language": "python",
   "name": "w2"
  },
  "language_info": {
   "codemirror_mode": {
    "name": "ipython",
    "version": 3
   },
   "file_extension": ".py",
   "mimetype": "text/x-python",
   "name": "python",
   "nbconvert_exporter": "python",
   "pygments_lexer": "ipython3",
   "version": "3.8.10"
  }
 },
 "nbformat": 4,
 "nbformat_minor": 2
}
